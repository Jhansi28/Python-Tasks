{
 "cells": [
  {
   "cell_type": "code",
   "execution_count": 16,
   "metadata": {},
   "outputs": [],
   "source": [
    "import pandas as pd"
   ]
  },
  {
   "cell_type": "code",
   "execution_count": 22,
   "metadata": {},
   "outputs": [],
   "source": [
    "import numpy as np\n",
    "import pandas as pd\n",
    "import scipy.stats as stats\n",
    "import matplotlib.pyplot as plt\n",
    "%matplotlib inline\n",
    "import math"
   ]
  },
  {
   "cell_type": "code",
   "execution_count": 17,
   "metadata": {},
   "outputs": [],
   "source": [
    "satisfaction = pd.read_csv(\"C:/Users/Latha/Downloads/Testing_Of_Hypothesis.csv\")"
   ]
  },
  {
   "cell_type": "code",
   "execution_count": 18,
   "metadata": {},
   "outputs": [
    {
     "data": {
      "text/html": [
       "<div>\n",
       "<style scoped>\n",
       "    .dataframe tbody tr th:only-of-type {\n",
       "        vertical-align: middle;\n",
       "    }\n",
       "\n",
       "    .dataframe tbody tr th {\n",
       "        vertical-align: top;\n",
       "    }\n",
       "\n",
       "    .dataframe thead th {\n",
       "        text-align: right;\n",
       "    }\n",
       "</style>\n",
       "<table border=\"1\" class=\"dataframe\">\n",
       "  <thead>\n",
       "    <tr style=\"text-align: right;\">\n",
       "      <th></th>\n",
       "      <th>Sr No</th>\n",
       "      <th>S_Cust_id</th>\n",
       "      <th>Samsung Score</th>\n",
       "      <th>Apple_Cust_id</th>\n",
       "      <th>Apple_Score</th>\n",
       "    </tr>\n",
       "  </thead>\n",
       "  <tbody>\n",
       "    <tr>\n",
       "      <th>0</th>\n",
       "      <td>1</td>\n",
       "      <td>S336499</td>\n",
       "      <td>94</td>\n",
       "      <td>A336525</td>\n",
       "      <td>82</td>\n",
       "    </tr>\n",
       "    <tr>\n",
       "      <th>1</th>\n",
       "      <td>2</td>\n",
       "      <td>S73004</td>\n",
       "      <td>99</td>\n",
       "      <td>A73011</td>\n",
       "      <td>83</td>\n",
       "    </tr>\n",
       "    <tr>\n",
       "      <th>2</th>\n",
       "      <td>3</td>\n",
       "      <td>S79537</td>\n",
       "      <td>74</td>\n",
       "      <td>A79538</td>\n",
       "      <td>88</td>\n",
       "    </tr>\n",
       "    <tr>\n",
       "      <th>3</th>\n",
       "      <td>4</td>\n",
       "      <td>S769168</td>\n",
       "      <td>74</td>\n",
       "      <td>A769222</td>\n",
       "      <td>80</td>\n",
       "    </tr>\n",
       "    <tr>\n",
       "      <th>4</th>\n",
       "      <td>5</td>\n",
       "      <td>S609791</td>\n",
       "      <td>83</td>\n",
       "      <td>A609801</td>\n",
       "      <td>74</td>\n",
       "    </tr>\n",
       "  </tbody>\n",
       "</table>\n",
       "</div>"
      ],
      "text/plain": [
       "   Sr No S_Cust_id  Samsung Score Apple_Cust_id  Apple_Score\n",
       "0      1   S336499             94       A336525           82\n",
       "1      2    S73004             99        A73011           83\n",
       "2      3    S79537             74        A79538           88\n",
       "3      4   S769168             74       A769222           80\n",
       "4      5   S609791             83       A609801           74"
      ]
     },
     "execution_count": 18,
     "metadata": {},
     "output_type": "execute_result"
    }
   ],
   "source": [
    "satisfaction.head()"
   ]
  },
  {
   "cell_type": "code",
   "execution_count": 19,
   "metadata": {},
   "outputs": [],
   "source": [
    "#satisfaction['Samsung Score'] = satisfaction['Samsung_Score']\n",
    "\n",
    "satisfaction = satisfaction.rename({'Samsung Score': 'Samsung_Score'}, axis=1) "
   ]
  },
  {
   "cell_type": "code",
   "execution_count": 6,
   "metadata": {},
   "outputs": [
    {
     "name": "stderr",
     "output_type": "stream",
     "text": [
      "C:\\Users\\Latha\\Anaconda3\\lib\\site-packages\\ipykernel_launcher.py:1: FutureWarning: \n",
      "Passing list-likes to .loc or [] with any missing label will raise\n",
      "KeyError in the future, you can use .reindex() as an alternative.\n",
      "\n",
      "See the documentation here:\n",
      "https://pandas.pydata.org/pandas-docs/stable/indexing.html#deprecate-loc-reindex-listlike\n",
      "  \"\"\"Entry point for launching an IPython kernel.\n"
     ]
    },
    {
     "data": {
      "text/plain": [
       "Sr No            83.235294\n",
       "Samsung Score    83.988235\n",
       "Apple_Score      87.470588\n",
       "dtype: float64"
      ]
     },
     "execution_count": 6,
     "metadata": {},
     "output_type": "execute_result"
    }
   ],
   "source": [
    "satisfaction.loc[satisfaction['Samsung Score']].mean()"
   ]
  },
  {
   "cell_type": "code",
   "execution_count": 23,
   "metadata": {},
   "outputs": [
    {
     "data": {
      "text/plain": [
       "Ttest_1sampResult(statistic=8.358287450922418, pvalue=4.0739777034636007e-13)"
      ]
     },
     "execution_count": 23,
     "metadata": {},
     "output_type": "execute_result"
    }
   ],
   "source": [
    "stats.ttest_1samp(a= satisfaction.Samsung_Score,               # Sample data\n",
    "                 popmean= 75)"
   ]
  },
  {
   "cell_type": "code",
   "execution_count": 24,
   "metadata": {},
   "outputs": [
    {
     "data": {
      "text/plain": [
       "84.9"
      ]
     },
     "execution_count": 24,
     "metadata": {},
     "output_type": "execute_result"
    }
   ],
   "source": [
    "satisfaction.Samsung_Score.mean()"
   ]
  },
  {
   "cell_type": "raw",
   "metadata": {},
   "source": [
    "### Two sample T-Test (Independent)"
   ]
  },
  {
   "cell_type": "code",
   "execution_count": 27,
   "metadata": {},
   "outputs": [
    {
     "data": {
      "text/plain": [
       "0      94\n",
       "1      99\n",
       "2      74\n",
       "3      74\n",
       "4      83\n",
       "5      87\n",
       "6      89\n",
       "7      83\n",
       "8      75\n",
       "9      74\n",
       "10     80\n",
       "11     86\n",
       "12     87\n",
       "13     89\n",
       "14     99\n",
       "15     88\n",
       "16     78\n",
       "17     97\n",
       "18    100\n",
       "19     98\n",
       "20    100\n",
       "21     81\n",
       "22     69\n",
       "23     69\n",
       "24    100\n",
       "25     96\n",
       "26     73\n",
       "27     84\n",
       "28     67\n",
       "29     98\n",
       "     ... \n",
       "70     91\n",
       "71     63\n",
       "72    100\n",
       "73     85\n",
       "74     76\n",
       "75     90\n",
       "76    100\n",
       "77     97\n",
       "78     72\n",
       "79    100\n",
       "80     58\n",
       "81    100\n",
       "82     78\n",
       "83     83\n",
       "84     69\n",
       "85     92\n",
       "86     70\n",
       "87     77\n",
       "88     94\n",
       "89     75\n",
       "90     84\n",
       "91     88\n",
       "92     63\n",
       "93     91\n",
       "94     73\n",
       "95     77\n",
       "96     85\n",
       "97     83\n",
       "98     82\n",
       "99    100\n",
       "Name: Samsung_Score, Length: 100, dtype: int64"
      ]
     },
     "execution_count": 27,
     "metadata": {},
     "output_type": "execute_result"
    }
   ],
   "source": [
    "sam_sco = satisfaction.Samsung_Score\n",
    "sam_sco"
   ]
  },
  {
   "cell_type": "code",
   "execution_count": 26,
   "metadata": {},
   "outputs": [],
   "source": [
    "app_sco = satisfaction.Apple_Score"
   ]
  },
  {
   "cell_type": "code",
   "execution_count": 30,
   "metadata": {},
   "outputs": [
    {
     "name": "stdout",
     "output_type": "stream",
     "text": [
      "84.9\n"
     ]
    }
   ],
   "source": [
    "print(sam_sco.mean())"
   ]
  },
  {
   "cell_type": "code",
   "execution_count": 31,
   "metadata": {},
   "outputs": [
    {
     "name": "stdout",
     "output_type": "stream",
     "text": [
      "87.81\n"
     ]
    }
   ],
   "source": [
    "print(app_sco.mean())"
   ]
  },
  {
   "cell_type": "code",
   "execution_count": 28,
   "metadata": {},
   "outputs": [
    {
     "name": "stdout",
     "output_type": "stream",
     "text": [
      "11.84453161982057\n"
     ]
    }
   ],
   "source": [
    "print(sam_sco.std())\n"
   ]
  },
  {
   "cell_type": "code",
   "execution_count": 29,
   "metadata": {},
   "outputs": [
    {
     "name": "stdout",
     "output_type": "stream",
     "text": [
      "9.628131131788196\n"
     ]
    }
   ],
   "source": [
    "print(app_sco.std())"
   ]
  },
  {
   "cell_type": "code",
   "execution_count": 32,
   "metadata": {},
   "outputs": [
    {
     "data": {
      "text/plain": [
       "Ttest_indResult(statistic=-1.9064295935043474, pvalue=0.05810311766331876)"
      ]
     },
     "execution_count": 32,
     "metadata": {},
     "output_type": "execute_result"
    }
   ],
   "source": [
    "stats.ttest_ind(a= sam_sco,\n",
    "                b= app_sco,\n",
    "                equal_var=False)  "
   ]
  },
  {
   "cell_type": "code",
   "execution_count": 33,
   "metadata": {},
   "outputs": [
    {
     "data": {
      "text/plain": [
       "Ttest_indResult(statistic=-1.9064295935043472, pvalue=0.058042614444118075)"
      ]
     },
     "execution_count": 33,
     "metadata": {},
     "output_type": "execute_result"
    }
   ],
   "source": [
    "stats.ttest_ind(a= sam_sco,\n",
    "                b= app_sco,\n",
    "                equal_var=True)  "
   ]
  },
  {
   "cell_type": "code",
   "execution_count": 35,
   "metadata": {},
   "outputs": [
    {
     "data": {
      "text/plain": [
       "F_onewayResult(statistic=3.6344737949891592, pvalue=0.05804261444411817)"
      ]
     },
     "execution_count": 35,
     "metadata": {},
     "output_type": "execute_result"
    }
   ],
   "source": [
    "stats.f_oneway(sam_sco,app_sco)"
   ]
  },
  {
   "cell_type": "raw",
   "metadata": {},
   "source": [
    "Null Hypothesis is True"
   ]
  }
 ],
 "metadata": {
  "kernelspec": {
   "display_name": "Python 3",
   "language": "python",
   "name": "python3"
  },
  "language_info": {
   "codemirror_mode": {
    "name": "ipython",
    "version": 3
   },
   "file_extension": ".py",
   "mimetype": "text/x-python",
   "name": "python",
   "nbconvert_exporter": "python",
   "pygments_lexer": "ipython3",
   "version": "3.7.3"
  }
 },
 "nbformat": 4,
 "nbformat_minor": 2
}
